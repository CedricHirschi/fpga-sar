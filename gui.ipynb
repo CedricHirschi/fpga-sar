{
 "cells": [
  {
   "cell_type": "code",
   "execution_count": 97,
   "metadata": {},
   "outputs": [],
   "source": [
    "import ipywidgets as wdg\n",
    "import serial\n",
    "from serial.tools import list_ports\n",
    "import time\n",
    "import threading\n",
    "\n",
    "import numpy as np\n",
    "import bqplot as bq"
   ]
  },
  {
   "cell_type": "code",
   "execution_count": 98,
   "metadata": {},
   "outputs": [],
   "source": [
    "RESOLUTION = 8"
   ]
  },
  {
   "cell_type": "code",
   "execution_count": 99,
   "metadata": {},
   "outputs": [],
   "source": [
    "port_list = [port.device for port in list_ports.comports()]\n",
    "port_list.sort()"
   ]
  },
  {
   "cell_type": "code",
   "execution_count": 100,
   "metadata": {},
   "outputs": [
    {
     "name": "stdout",
     "output_type": "stream",
     "text": [
      "Connected to COM9\n"
     ]
    }
   ],
   "source": [
    "tabs = []\n",
    "\n",
    "\n",
    "port = wdg.Dropdown(options=port_list, value=port_list[0], description='Port:')\n",
    "connect = wdg.Button(description='Connect')\n",
    "disconnect = wdg.Button(description='Disconnect', disabled=True)\n",
    "tabs.append(('Connection', wdg.VBox([port, connect, disconnect])))\n",
    "\n",
    "request = wdg.Button(description='Request', disabled=True)\n",
    "request_interval = wdg.FloatLogSlider(value=0.1, min=-3, max=2, step=0.1, description='Interval (s):')\n",
    "request_continuous = wdg.Checkbox(value=False, description='Continuous')\n",
    "tabs.append(('Request', wdg.VBox([request, request_interval, request_continuous])))\n",
    "\n",
    "response = wdg.Label(value='')\n",
    "response_display = wdg.IntProgress(value=0, min=0, max=2**RESOLUTION-1, description='Value:')\n",
    "\n",
    "\n",
    "x_data = np.array([])\n",
    "y_data = np.array([])\n",
    "\n",
    "x_sc = bq.LinearScale()\n",
    "y_sc = bq.LinearScale(min=0, max=2**RESOLUTION-1)\n",
    "\n",
    "line = bq.Lines(x=x_data, y=y_data, scales={'x': x_sc, 'y': y_sc})\n",
    "\n",
    "ax_x = bq.Axis(scale=x_sc, label='Time')\n",
    "ax_y = bq.Axis(scale=y_sc, orientation='vertical', label='Value')\n",
    "\n",
    "fig = bq.Figure(marks=[line], axes=[ax_x, ax_y], title='ADC Value vs Time')\n",
    "\n",
    "top_bar = wdg.Tab(children=[tab for title, tab in tabs], titles=[title for title, tab in tabs])\n",
    "layout = wdg.VBox([top_bar, response, response_display, fig])"
   ]
  },
  {
   "cell_type": "code",
   "execution_count": 101,
   "metadata": {},
   "outputs": [],
   "source": [
    "ser = None\n",
    "\n",
    "requesting = False\n",
    "request_thread = None\n",
    "\n",
    "times = []\n",
    "voltages = []"
   ]
  },
  {
   "cell_type": "code",
   "execution_count": 102,
   "metadata": {},
   "outputs": [],
   "source": [
    "from tracemalloc import start\n",
    "\n",
    "\n",
    "def connect_to_port(port_name):\n",
    "    global ser\n",
    "    \n",
    "    try:\n",
    "        ser.close()\n",
    "    except:\n",
    "        pass\n",
    "\n",
    "    try:\n",
    "        ser = serial.Serial(port_name, 115200)\n",
    "    except serial.SerialException as e:\n",
    "        print(e)\n",
    "        return\n",
    "    \n",
    "    connect.disabled = True\n",
    "    disconnect.disabled = False\n",
    "    request.disabled = False\n",
    "\n",
    "    connect.description = 'Connected'\n",
    "    top_bar.set_title(0, f'Connection ({port_name})')\n",
    "\n",
    "    print('Connected to', port_name)\n",
    "\n",
    "def disconnect_from_port(b):\n",
    "    global ser, requesting, request_thread\n",
    "\n",
    "    if request_thread is not None:\n",
    "        requesting = False\n",
    "        request_thread.join()\n",
    "        request_thread = None\n",
    "        request.description = 'Request'\n",
    "    \n",
    "    try:\n",
    "        ser.close()\n",
    "    except:\n",
    "        pass\n",
    "    \n",
    "    connect.disabled = False\n",
    "    disconnect.disabled = True\n",
    "    request.disabled = True\n",
    "\n",
    "    connect.description = 'Connect'\n",
    "    top_bar.set_title(0, 'Connection')\n",
    "\n",
    "    print('Disconnected from', ser.port)\n",
    "\n",
    "def request_thread_entry():\n",
    "    global ser, requesting, x_data, y_data\n",
    "\n",
    "    last_time = time.time()\n",
    "    start_time = last_time\n",
    "\n",
    "    while requesting:\n",
    "        loop_start_time = time.time()\n",
    "        ser.write(b's')\n",
    "        value = ser.readline().decode('utf-8')\n",
    "\n",
    "        value = value[12-RESOLUTION:]\n",
    "\n",
    "        value_dec = int(value, 2)\n",
    "        elapsed_time = time.time() - last_time\n",
    "        last_time = time.time()\n",
    "        response.value = f\"{value} ({value_dec}) @ {1/elapsed_time:.2f} Hz\"\n",
    "        response_display.value = value_dec\n",
    "\n",
    "        times.append(last_time - start_time)\n",
    "        voltages.append(value_dec)\n",
    "\n",
    "        # constrain times and voltages to last 10 seconds\n",
    "        while times[-1] - times[0] > 10:\n",
    "            times.pop(0)\n",
    "            voltages.pop(0)\n",
    "\n",
    "        line.x = times\n",
    "        line.y = voltages\n",
    "\n",
    "        if request_interval.value - (time.time() - loop_start_time) > 0:\n",
    "            time.sleep(request_interval.value - (time.time() - loop_start_time))\n",
    "\n",
    "def request_data(b):\n",
    "    global ser, requesting, request_thread\n",
    "\n",
    "    if request_thread is not None:\n",
    "        requesting = False\n",
    "        request_thread.join()\n",
    "        request_thread = None\n",
    "        request.description = 'Request'\n",
    "        return\n",
    "\n",
    "    if not request_continuous.value:\n",
    "        ser.write(b's')\n",
    "        value = ser.readline().decode('utf-8')\n",
    "\n",
    "        # discard first 4 characters (temporarily, for 8 bit version)\n",
    "        value = value[12-RESOLUTION:]\n",
    "\n",
    "        value_dec = int(value, 2)\n",
    "        # value is a binary string, print the binary string and the decimal value\n",
    "        response.value = f\"{value} ({value_dec})\"\n",
    "        response_display.value = value_dec\n",
    "\n",
    "    else:\n",
    "        requesting = True\n",
    "        request.description = 'Stop'\n",
    "\n",
    "        request_thread = threading.Thread(target=request_thread_entry)\n",
    "        request_thread.start()"
   ]
  },
  {
   "cell_type": "code",
   "execution_count": 103,
   "metadata": {},
   "outputs": [],
   "source": [
    "connect.on_click(lambda b: connect_to_port(port.value))\n",
    "disconnect.on_click(disconnect_from_port)\n",
    "request.on_click(request_data)"
   ]
  },
  {
   "cell_type": "code",
   "execution_count": 104,
   "metadata": {},
   "outputs": [
    {
     "data": {
      "application/vnd.jupyter.widget-view+json": {
       "model_id": "b48aacfb70994695be28685bc9f52e47",
       "version_major": 2,
       "version_minor": 0
      },
      "text/plain": [
       "VBox(children=(Tab(children=(VBox(children=(Dropdown(description='Port:', options=('COM9',), value='COM9'), Bu…"
      ]
     },
     "metadata": {},
     "output_type": "display_data"
    },
    {
     "name": "stderr",
     "output_type": "stream",
     "text": [
      "Exception in thread Thread-59 (request_thread_entry):\n",
      "Traceback (most recent call last):\n",
      "  File \"C:\\Users\\cedr0\\scoop\\apps\\python\\current\\Lib\\threading.py\", line 1073, in _bootstrap_inner\n",
      "    self.run()\n",
      "  File \"c:\\Users\\cedr0\\Documents\\GitHub\\fpga-sar\\fpga-sar\\venv\\Lib\\site-packages\\ipykernel\\ipkernel.py\", line 766, in run_closure\n",
      "    _threading_Thread_run(self)\n",
      "  File \"C:\\Users\\cedr0\\scoop\\apps\\python\\current\\Lib\\threading.py\", line 1010, in run\n",
      "    self._target(*self._args, **self._kwargs)\n",
      "  File \"C:\\Users\\cedr0\\AppData\\Local\\Temp\\ipykernel_35988\\2107822527.py\", line 58, in request_thread_entry\n",
      "  File \"c:\\Users\\cedr0\\Documents\\GitHub\\fpga-sar\\fpga-sar\\venv\\Lib\\site-packages\\serial\\serialwin32.py\", line 325, in write\n",
      "    raise SerialTimeoutException('Write timeout')\n",
      "serial.serialutil.SerialTimeoutException: Write timeout\n"
     ]
    }
   ],
   "source": [
    "display(layout)"
   ]
  }
 ],
 "metadata": {
  "kernelspec": {
   "display_name": "venv",
   "language": "python",
   "name": "python3"
  },
  "language_info": {
   "codemirror_mode": {
    "name": "ipython",
    "version": 3
   },
   "file_extension": ".py",
   "mimetype": "text/x-python",
   "name": "python",
   "nbconvert_exporter": "python",
   "pygments_lexer": "ipython3",
   "version": "3.12.2"
  }
 },
 "nbformat": 4,
 "nbformat_minor": 2
}
